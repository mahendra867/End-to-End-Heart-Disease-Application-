{
 "cells": [
  {
   "cell_type": "code",
   "execution_count": 12,
   "metadata": {},
   "outputs": [
    {
     "data": {
      "text/plain": [
       "'C:\\\\datascience End to End Projects\\\\End-to-End-Heart-Disease-Application-'"
      ]
     },
     "execution_count": 12,
     "metadata": {},
     "output_type": "execute_result"
    }
   ],
   "source": [
    "import os\n",
    "%pwd  # this tell us which path we are currently working , so based on the below output path we are working under the research file\n",
    "os.chdir(\"C:\\datascience End to End Projects\\End-to-End-Heart-Disease-Application-\")  #  but i would like to work with main ProjectML_with_MLFlow file , so for getting i step back in path inorder to enter the main project file i used this command os.chdir(\"../\")\n",
    "%pwd"
   ]
  },
  {
   "cell_type": "code",
   "execution_count": 13,
   "metadata": {},
   "outputs": [],
   "source": [
    "# Now iam creating the entity class which consist of config.yaml folder model trainer code part variables, along with that iam adding some more varaibles like alpha,l1_ratio,target_column inside my entity class\n",
    "from dataclasses import dataclass\n",
    "from pathlib import Path\n",
    "\n",
    "\n",
    "@dataclass(frozen=True)\n",
    "class ModelTrainerConfig:\n",
    "    root_dir: Path\n",
    "    train_data_path: Path\n",
    "    test_data_path: Path\n",
    "    model_name: str\n",
    "    target_column: str  # this target column is present inside the Schema.yaml file which it tells us the quality of the Wine based on the value it returns\n",
    "    "
   ]
  },
  {
   "cell_type": "code",
   "execution_count": 14,
   "metadata": {},
   "outputs": [],
   "source": [
    "from PROJECTML.constants import *\n",
    "from PROJECTML.utils.common import read_yaml, create_directories"
   ]
  },
  {
   "cell_type": "code",
   "execution_count": 15,
   "metadata": {},
   "outputs": [],
   "source": [
    "# this template we use for every stage like data_ingestion,data_validation,data_transformation, model trainer .. etc\n",
    "class ConfigurationManager:\n",
    "    def __init__(\n",
    "        self,\n",
    "        config_filepath = CONFIG_FILE_PATH,\n",
    "        #params_filepath = PARAMS_FILE_PATH,\n",
    "        schema_filepath = SCHEMA_FILE_PATH):\n",
    "\n",
    "        self.config = read_yaml(config_filepath)\n",
    "        #self.params = read_yaml(params_filepath)\n",
    "        self.schema = read_yaml(schema_filepath)\n",
    "\n",
    "        create_directories([self.config.artifacts_root])\n",
    "\n",
    "\n",
    "# this is part of code for the Model trainerConfig which helps us to return the configuration\n",
    "        \n",
    "    def get_model_trainer_config(self) -> ModelTrainerConfig:\n",
    "        config = self.config.model_trainer   # here iam reading the schema, params \n",
    "        #params = self.params.ElasticNet\n",
    "        schema =  self.schema.TARGET_COLUMN\n",
    "\n",
    "        create_directories([config.root_dir])\n",
    "\n",
    "        model_trainer_config = ModelTrainerConfig(\n",
    "            root_dir=config.root_dir,\n",
    "            train_data_path = config.train_data_path,\n",
    "            test_data_path = config.test_data_path,\n",
    "            model_name = config.model_name,\n",
    "            target_column = schema.name # here from schema iam taking the name which i will return through target_column\n",
    "            \n",
    "        )\n",
    "\n",
    "        return model_trainer_config # here iam returning all variables from the configuration"
   ]
  },
  {
   "cell_type": "code",
   "execution_count": null,
   "metadata": {},
   "outputs": [],
   "source": []
  },
  {
   "cell_type": "code",
   "execution_count": 39,
   "metadata": {},
   "outputs": [],
   "source": [
    "# these packages i need in order to create my Model Trainer components \n",
    "import pandas as pd\n",
    "import matplotlib.pyplot as plt\n",
    "import os\n",
    "from PROJECTML import logger\n",
    "from sklearn.model_selection import cross_val_score\n",
    "from sklearn.model_selection import RepeatedStratifiedKFold\n",
    "from sklearn.metrics import accuracy_score\n",
    "from sklearn.metrics import roc_auc_score\n",
    "#from sklearn.metrics import plot_roc_curve\n",
    "import joblib # here iam saving the model because i want to save the data\n",
    "from src.PROJECTML.config.configuration import ConfigurationManager\n",
    "from src.PROJECTML.components.data_transformation import DataTransformation\n",
    "import pickle\n",
    "\n",
    "# now here iam defining a class called model trainer inside it will take ModelTrainerConfig\n",
    "class ModelTrainer:\n",
    "    def __init__(self, config: ModelTrainerConfig):\n",
    "        self.config = config\n",
    "\n",
    "\n",
    "    # here iam creating a methode which it will traine the model by using train and test dataset\n",
    "    def train(self):\n",
    "        self.train_data = pd.read_csv(self.config.train_data_path) # here it is taking the paths of train and test dataset\n",
    "        self.test_data = pd.read_csv(self.config.test_data_path)\n",
    "\n",
    "        self.x_train=self.train_data.drop(columns=['HeartDisease'])\n",
    "        self.y_train=self.train_data['HeartDisease']\n",
    "        self.x_test=self.test_data.drop(columns=['HeartDisease'])\n",
    "        self.y_test=self.test_data['HeartDisease']\n",
    "        \n",
    "        \n",
    "\n",
    "\n",
    "    def model(self):\n",
    "\n",
    "        config = ConfigurationManager()\n",
    "        data_transformation_config = config.get_data_transformation_config()\n",
    "        data_transformation = DataTransformation(config=data_transformation_config)\n",
    "        pipeline_object=data_transformation.pipeline_creation()\n",
    "        print(f\"got  the pipeline_object {pipeline_object}\")\n",
    "\n",
    "        pipe = pipeline_object\n",
    "        pipe.fit(self.x_train, self.y_train)\n",
    "        prediction = pipe.predict(self.x_test)\n",
    "        cv = RepeatedStratifiedKFold(n_splits=10, n_repeats=3, random_state=1)\n",
    "        print(\"Accuracy : \", '{0:.2%}'.format(accuracy_score(self.y_test, prediction)))\n",
    "        print(\"Cross Validation Score : \", '{0:.2%}'.format(cross_val_score(pipe, self.x_train, self.y_train, cv=cv, scoring='roc_auc').mean()))\n",
    "        print(\"ROC_AUC Score : \", '{0:.2%}'.format(roc_auc_score(self.y_test, prediction)))\n",
    "\n",
    "    \n",
    "\n",
    "\n",
    "\n",
    "        \n",
    "        # lr = ElasticNet(alpha=self.config.alpha, l1_ratio=self.config.l1_ratio, random_state=42) # here i have created my Elastic model which it takes the alpha,l1_ratio, random state values \n",
    "        # lr.fit(train_x, train_y) # here i have initiated the model training\n",
    "\n",
    "        #pickle.dump(pipe,os.path.join(self.config.root_dir,self.config.model_name),open('model.pkl','wb')) # here are training my model iam just saving inside the folder Model_trainer which it will get create inside the artifacts\n",
    "\n",
    "\n",
    "        with open(os.path.join(self.config.root_dir, self.config.model_name), 'wb') as model_pkl_file:\n",
    "            pickle.dump(pipe, model_pkl_file)\n"
   ]
  },
  {
   "cell_type": "code",
   "execution_count": 41,
   "metadata": {},
   "outputs": [
    {
     "name": "stdout",
     "output_type": "stream",
     "text": [
      "[2024-02-27 20:24:08,455: INFO: common: yaml file: config\\config.yaml loaded successfully]\n",
      "[2024-02-27 20:24:08,458: INFO: common: yaml file: params.yaml loaded successfully]\n",
      "[2024-02-27 20:24:08,461: INFO: common: yaml file: schema.yaml loaded successfully]\n",
      "[2024-02-27 20:24:08,463: INFO: common: created directory at: artifacts]\n",
      "[2024-02-27 20:24:08,466: INFO: common: created directory at: artifacts/model_trainer]\n",
      "[2024-02-27 20:24:08,491: INFO: common: yaml file: config\\config.yaml loaded successfully]\n",
      "[2024-02-27 20:24:08,496: INFO: common: yaml file: params.yaml loaded successfully]\n",
      "[2024-02-27 20:24:08,504: INFO: common: yaml file: schema.yaml loaded successfully]\n",
      "[2024-02-27 20:24:08,507: INFO: common: created directory at: artifacts]\n",
      "[2024-02-27 20:24:08,510: INFO: common: created directory at: artifacts/data_transformation]\n",
      "(734, 11)\n",
      "(734,)\n",
      "(184, 11)\n",
      "(184,)\n",
      "Index values of x_train: ['Age', 'Sex', 'ChestPainType', 'RestingBP', 'Cholesterol', 'FastingBS', 'RestingECG', 'MaxHR', 'ExerciseAngina', 'Oldpeak', 'ST_Slope']\n",
      "Index value of y_train: HeartDisease\n",
      "[2024-02-27 20:24:08,526: INFO: data_transformation: <<<<<<<---------------------Started Data_transformation Pipeline ------------------------>>>>>>>>>>>>>>>>]\n"
     ]
    },
    {
     "name": "stdout",
     "output_type": "stream",
     "text": [
      "[2024-02-27 20:24:08,529: INFO: data_transformation: <<<<<<<---------------------Started feature scalling Pipeline ------------------------>>>>>>>>>>>>>>>>]\n",
      "ColumnTransformer(remainder='passthrough',\n",
      "                  transformers=[('minmax_scale', MinMaxScaler(), [7]),\n",
      "                                ('standard_scale', StandardScaler(),\n",
      "                                 [0, 3, 5])])\n",
      "[2024-02-27 20:24:08,535: INFO: data_transformation: <<<<<<<---------------------Started creating Model Pipeline ------------------------>>>>>>>>>>>>>>>>]\n",
      "LogisticRegression(C=10, max_iter=2000, random_state=0)\n",
      "[2024-02-27 20:24:08,537: INFO: data_transformation: <<<<<<<---------------------Started Combining all Pipeline into one pipeline------------------------>>>>>>>>>>>>>>>>]\n",
      "[2024-02-27 20:24:08,538: INFO: data_transformation: <<<<<<<---------------------Making all Pipeline into one pipeline------------------------>>>>>>>>>>>>>>>>]\n",
      "Pipeline(steps=[('columntransformer-1',\n",
      "                 ColumnTransformer(remainder='passthrough',\n",
      "                                   transformers=[('ordinal_encode',\n",
      "                                                  OrdinalEncoder(),\n",
      "                                                  [1, 2, 6, 8])])),\n",
      "                ('columntransformer-2',\n",
      "                 ColumnTransformer(remainder='passthrough',\n",
      "                                   transformers=[('minmax_scale',\n",
      "                                                  MinMaxScaler(), [7]),\n",
      "                                                 ('standard_scale',\n",
      "                                                  StandardScaler(),\n",
      "                                                  [0, 3, 5])])),\n",
      "                ('logisticregression',\n",
      "                 LogisticRegression(C=10, max_iter=2000, random_state=0))])\n",
      "[2024-02-27 20:24:08,572: INFO: data_transformation: Done with ordinal encoding for categorical features on train and test]\n",
      "[2024-02-27 20:24:08,582: INFO: data_transformation: Done with data_scalling for numerical features on train and test data]\n",
      "[2024-02-27 20:24:08,587: INFO: data_transformation: Returning the pipeline]\n",
      "[2024-02-27 20:24:08,591: INFO: data_transformation: <<<<<<<------------------------------------------------------->>>>>>>>>>>>>>>>]\n",
      "got  the pipeline_object Pipeline(steps=[('columntransformer-1',\n",
      "                 ColumnTransformer(remainder='passthrough',\n",
      "                                   transformers=[('ordinal_encode',\n",
      "                                                  OrdinalEncoder(),\n",
      "                                                  [1, 2, 6, 8])])),\n",
      "                ('columntransformer-2',\n",
      "                 ColumnTransformer(remainder='passthrough',\n",
      "                                   transformers=[('minmax_scale',\n",
      "                                                  MinMaxScaler(), [7]),\n",
      "                                                 ('standard_scale',\n",
      "                                                  StandardScaler(),\n",
      "                                                  [0, 3, 5])])),\n",
      "                ('logisticregression',\n",
      "                 LogisticRegression(C=10, max_iter=2000, random_state=0))])\n",
      "Accuracy :  86.96%\n",
      "Cross Validation Score :  91.11%\n",
      "ROC_AUC Score :  86.87%\n"
     ]
    }
   ],
   "source": [
    "try:\n",
    "    config = ConfigurationManager() # here iam initlizing my ConfigurationManager()\n",
    "    model_trainer_config = config.get_model_trainer_config() # here iam getting my get_model_trainer_config()\n",
    "    model_trainer_config = ModelTrainer(config=model_trainer_config) # here iam  passing my  model_trainer_config to the ModelTrainer function\n",
    "    \n",
    "    #data_transformation.pipeline_creation()\n",
    "    model_trainer_config.train() # here iam training the model\n",
    "    model_trainer_config.model()\n",
    "except Exception as e:\n",
    "    raise e"
   ]
  },
  {
   "cell_type": "code",
   "execution_count": null,
   "metadata": {},
   "outputs": [],
   "source": []
  },
  {
   "cell_type": "code",
   "execution_count": null,
   "metadata": {},
   "outputs": [],
   "source": []
  },
  {
   "cell_type": "code",
   "execution_count": null,
   "metadata": {},
   "outputs": [],
   "source": []
  },
  {
   "cell_type": "code",
   "execution_count": null,
   "metadata": {},
   "outputs": [],
   "source": []
  },
  {
   "cell_type": "code",
   "execution_count": null,
   "metadata": {},
   "outputs": [],
   "source": []
  },
  {
   "cell_type": "code",
   "execution_count": null,
   "metadata": {},
   "outputs": [],
   "source": []
  },
  {
   "cell_type": "code",
   "execution_count": null,
   "metadata": {},
   "outputs": [],
   "source": []
  },
  {
   "cell_type": "code",
   "execution_count": null,
   "metadata": {},
   "outputs": [],
   "source": []
  },
  {
   "cell_type": "code",
   "execution_count": null,
   "metadata": {},
   "outputs": [],
   "source": []
  },
  {
   "cell_type": "code",
   "execution_count": null,
   "metadata": {},
   "outputs": [],
   "source": []
  },
  {
   "cell_type": "code",
   "execution_count": null,
   "metadata": {},
   "outputs": [],
   "source": []
  },
  {
   "cell_type": "code",
   "execution_count": null,
   "metadata": {},
   "outputs": [],
   "source": []
  },
  {
   "cell_type": "code",
   "execution_count": null,
   "metadata": {},
   "outputs": [],
   "source": []
  },
  {
   "cell_type": "code",
   "execution_count": null,
   "metadata": {},
   "outputs": [],
   "source": []
  },
  {
   "cell_type": "code",
   "execution_count": null,
   "metadata": {},
   "outputs": [],
   "source": []
  }
 ],
 "metadata": {
  "kernelspec": {
   "display_name": "Python 3",
   "language": "python",
   "name": "python3"
  },
  "language_info": {
   "codemirror_mode": {
    "name": "ipython",
    "version": 3
   },
   "file_extension": ".py",
   "mimetype": "text/x-python",
   "name": "python",
   "nbconvert_exporter": "python",
   "pygments_lexer": "ipython3",
   "version": "3.8.0"
  }
 },
 "nbformat": 4,
 "nbformat_minor": 2
}
