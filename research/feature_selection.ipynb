{
 "cells": [
  {
   "cell_type": "code",
   "execution_count": 1,
   "metadata": {},
   "outputs": [
    {
     "data": {
      "text/plain": [
       "'C:\\\\datascience End to End Projects\\\\End-to-End-Heart-Disease-Application-main'"
      ]
     },
     "execution_count": 1,
     "metadata": {},
     "output_type": "execute_result"
    }
   ],
   "source": [
    "import os\n",
    "%pwd  # this tell us which path we are currently working , so based on the below output path we are working under the research file\n",
    "#os.getcwd()  #  but i would like to work with main ProjectML_with_MLFlow file , so for getting i step back in path inorder to enter the main project file i used this command os.chdir(\"../\")\n",
    "os.chdir(\"C:\\datascience End to End Projects\\End-to-End-Heart-Disease-Application-main\")\n",
    "%pwd"
   ]
  },
  {
   "cell_type": "code",
   "execution_count": null,
   "metadata": {},
   "outputs": [],
   "source": []
  },
  {
   "cell_type": "code",
   "execution_count": null,
   "metadata": {},
   "outputs": [],
   "source": []
  },
  {
   "cell_type": "code",
   "execution_count": null,
   "metadata": {},
   "outputs": [],
   "source": []
  },
  {
   "cell_type": "code",
   "execution_count": null,
   "metadata": {},
   "outputs": [],
   "source": []
  },
  {
   "cell_type": "code",
   "execution_count": null,
   "metadata": {},
   "outputs": [],
   "source": []
  },
  {
   "cell_type": "code",
   "execution_count": null,
   "metadata": {},
   "outputs": [],
   "source": []
  },
  {
   "cell_type": "code",
   "execution_count": null,
   "metadata": {},
   "outputs": [],
   "source": []
  },
  {
   "cell_type": "code",
   "execution_count": 2,
   "metadata": {},
   "outputs": [],
   "source": [
    "# This is called the entity \n",
    "from dataclasses import dataclass # here i imported the dataclass from the dataclasses\n",
    "from pathlib import Path  # here i imported path from pathlib\n",
    "\n",
    "@dataclass(frozen=True)\n",
    "class FeatureSelectionConfig:\n",
    "    root_dir: Path  # these are variables which are present inside the config.yaml file data_transformation code part and here iam mentioning inside the entity of the class\n",
    "    train_data_path: Path\n",
    "    test_data_path: Path\n",
    "    \n"
   ]
  },
  {
   "cell_type": "code",
   "execution_count": 3,
   "metadata": {},
   "outputs": [],
   "source": [
    "from PROJECTML.constants import *\n",
    "from PROJECTML.utils.common import read_yaml, create_directories"
   ]
  },
  {
   "cell_type": "code",
   "execution_count": 4,
   "metadata": {},
   "outputs": [],
   "source": [
    "# this is same part of the code in every step \n",
    "class ConfigurationManager:\n",
    "    def __init__(\n",
    "        self,\n",
    "        config_filepath = CONFIG_FILE_PATH,\n",
    "        params_filepath = PARAMS_FILE_PATH,\n",
    "        schema_filepath = SCHEMA_FILE_PATH):\n",
    "\n",
    "        self.config = read_yaml(config_filepath)\n",
    "        self.params = read_yaml(params_filepath)\n",
    "        self.schema = read_yaml(schema_filepath)\n",
    "\n",
    "        create_directories([self.config.artifacts_root])\n",
    "\n",
    "\n",
    "    # only this part get changes in every step, only defining the get_data_transformation_config get changes according to which step we are performing like 01_data_ingestion,02_data_validation\n",
    "    def get_feature_selection_config(self) -> FeatureSelectionConfig:\n",
    "        config = self.config.feature_selection\n",
    "\n",
    "        create_directories([config.root_dir])\n",
    "\n",
    "        feature_selection_config = FeatureSelectionConfig(\n",
    "            root_dir=config.root_dir,  # here iam returning these 2 varaibles by using this code \n",
    "            train_data_path=config.train_data_path,\n",
    "            test_data_path=config.test_data_path,\n",
    "        )\n",
    "\n",
    "        return feature_selection_config"
   ]
  },
  {
   "cell_type": "code",
   "execution_count": 5,
   "metadata": {},
   "outputs": [],
   "source": [
    "import os\n",
    "from PROJECTML import logger\n",
    "from sklearn.model_selection import train_test_split\n"
   ]
  },
  {
   "cell_type": "code",
   "execution_count": 6,
   "metadata": {},
   "outputs": [],
   "source": [
    "# here i defined the component of DataTransformationConfig below\n",
    "import pandas as pd\n",
    "\n",
    "\n",
    "class FeatureSelection:\n",
    "    def __init__(self, config: FeatureSelectionConfig):\n",
    "        self.config = config\n",
    "\n",
    "     \n",
    "\n",
    "    def feature_selection(self):\n",
    "        train_csv=pd.read_csv(self.config.train_data_path)\n",
    "        test_csv=pd.read_csv(self.config.test_data_path)\n",
    "        self.train_csv_features = train_csv[train_csv.columns.drop(['RestingBP','RestingECG'])]\n",
    "        self.test_csv_features= test_csv[test_csv.columns.drop(['RestingBP','RestingECG'])]\n",
    "\n",
    "\n",
    "                \n",
    "# here i have defined the tarin_test_split below for performing the train_test_split\n",
    "    def train_test_spliting(self):\n",
    "\n",
    "        self.train_csv_features.to_csv(os.path.join(self.config.root_dir, \"Modified_train.csv\"),index = False) # here it saves the train and test data in csv format inisde the artifacts-> transformation folder\n",
    "        self.test_csv_features.to_csv(os.path.join(self.config.root_dir, \"Modified_test.csv\"),index = False)\n",
    "\n",
    "        logger.info(\"Splited data into training and test sets\")\n",
    "        logger.info(self.train_csv_features.shape) # this logs the information about that how many training and testing samples i have \n",
    "        logger.info(self.test_csv_features.shape)\n",
    "\n",
    "        print(self.train_csv_features.shape)\n",
    "        print(self.test_csv_features.shape)\n"
   ]
  },
  {
   "cell_type": "code",
   "execution_count": 7,
   "metadata": {},
   "outputs": [
    {
     "name": "stdout",
     "output_type": "stream",
     "text": [
      "[2024-02-22 01:59:59,776: INFO: common: yaml file: config\\config.yaml loaded successfully]\n",
      "[2024-02-22 01:59:59,780: INFO: common: yaml file: params.yaml loaded successfully]\n",
      "[2024-02-22 01:59:59,784: INFO: common: yaml file: schema.yaml loaded successfully]\n",
      "[2024-02-22 01:59:59,787: INFO: common: created directory at: artifacts]\n",
      "[2024-02-22 01:59:59,790: INFO: common: created directory at: artifacts/feature_selection]\n"
     ]
    },
    {
     "name": "stdout",
     "output_type": "stream",
     "text": [
      "[2024-02-22 01:59:59,852: INFO: 2832826836: Splited data into training and test sets]\n",
      "[2024-02-22 01:59:59,854: INFO: 2832826836: (734, 10)]\n",
      "[2024-02-22 01:59:59,855: INFO: 2832826836: (184, 10)]\n",
      "(734, 10)\n",
      "(184, 10)\n"
     ]
    }
   ],
   "source": [
    "try:\n",
    "    config = ConfigurationManager() # here iam initlizing my ConfigurationManager\n",
    "    feature_selection_config = config.get_feature_selection_config() # and here iam getting my get_data_transformation_config()\n",
    "    feature_selection = FeatureSelection(config=feature_selection_config) # here iam passing my data_transformation_config it means iam calling this data_transformation_config\n",
    "    feature_selection.feature_selection()\n",
    "    feature_selection.train_test_spliting() # here performing the train_test_split()\n",
    "except Exception as e: # this part of code will raise error if anything goes wrong\n",
    "    raise e"
   ]
  },
  {
   "cell_type": "code",
   "execution_count": null,
   "metadata": {},
   "outputs": [],
   "source": []
  },
  {
   "cell_type": "code",
   "execution_count": null,
   "metadata": {},
   "outputs": [],
   "source": []
  },
  {
   "cell_type": "code",
   "execution_count": null,
   "metadata": {},
   "outputs": [],
   "source": []
  },
  {
   "cell_type": "code",
   "execution_count": null,
   "metadata": {},
   "outputs": [],
   "source": []
  },
  {
   "cell_type": "code",
   "execution_count": null,
   "metadata": {},
   "outputs": [],
   "source": []
  },
  {
   "cell_type": "code",
   "execution_count": null,
   "metadata": {},
   "outputs": [],
   "source": []
  },
  {
   "cell_type": "code",
   "execution_count": null,
   "metadata": {},
   "outputs": [],
   "source": []
  },
  {
   "cell_type": "code",
   "execution_count": null,
   "metadata": {},
   "outputs": [],
   "source": []
  },
  {
   "cell_type": "code",
   "execution_count": null,
   "metadata": {},
   "outputs": [],
   "source": []
  },
  {
   "cell_type": "code",
   "execution_count": null,
   "metadata": {},
   "outputs": [],
   "source": []
  },
  {
   "cell_type": "code",
   "execution_count": null,
   "metadata": {},
   "outputs": [],
   "source": []
  },
  {
   "cell_type": "code",
   "execution_count": null,
   "metadata": {},
   "outputs": [],
   "source": []
  }
 ],
 "metadata": {
  "kernelspec": {
   "display_name": "Python 3",
   "language": "python",
   "name": "python3"
  },
  "language_info": {
   "codemirror_mode": {
    "name": "ipython",
    "version": 3
   },
   "file_extension": ".py",
   "mimetype": "text/x-python",
   "name": "python",
   "nbconvert_exporter": "python",
   "pygments_lexer": "ipython3",
   "version": "3.8.0"
  }
 },
 "nbformat": 4,
 "nbformat_minor": 2
}
