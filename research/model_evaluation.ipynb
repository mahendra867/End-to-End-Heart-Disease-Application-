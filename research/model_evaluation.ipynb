{
 "cells": [
  {
   "cell_type": "code",
   "execution_count": 2,
   "metadata": {},
   "outputs": [
    {
     "data": {
      "text/plain": [
       "'C:\\\\datascience End to End Projects\\\\End-to-End-Heart-Disease-Application-'"
      ]
     },
     "execution_count": 2,
     "metadata": {},
     "output_type": "execute_result"
    }
   ],
   "source": [
    "import os\n",
    "%pwd  # this tell us which path we are currently working , so based on the below output path we are working under the research file\n",
    "os.chdir(\"C:\\datascience End to End Projects\\End-to-End-Heart-Disease-Application-\")  #  but i would like to work with main ProjectML_with_MLFlow file , so for getting i step back in path inorder to enter the main project file i used this command os.chdir(\"../\")\n",
    "%pwd"
   ]
  },
  {
   "cell_type": "code",
   "execution_count": null,
   "metadata": {},
   "outputs": [],
   "source": []
  },
  {
   "cell_type": "code",
   "execution_count": 3,
   "metadata": {},
   "outputs": [],
   "source": [
    "from dataclasses import dataclass\n",
    "from pathlib import Path\n",
    "\n",
    "\n",
    "@dataclass(frozen=True)\n",
    "class ModelEvaluationConfig:\n",
    "    root_dir: Path  # this root_dir,test_data_path,model_path,metric_file_name are the variables takes from the model_evaluation configuration code part of config.yaml file \n",
    "    test_data_path: Path\n",
    "    model_path: Path\n",
    "    #all_params: dict # these all params is available inside the params.yaml file which it reads all the parameters \n",
    "    metric_file_name: Path\n",
    "    target_column: str # this target column takes from schema.yaml file \n",
    "    #mlflow_uri: str # this mlflow uri iagain write it down once again inside mlflow URI section"
   ]
  },
  {
   "cell_type": "code",
   "execution_count": 4,
   "metadata": {},
   "outputs": [],
   "source": [
    "from PROJECTML.constants import *\n",
    "from PROJECTML.utils.common import read_yaml, create_directories, save_json"
   ]
  },
  {
   "cell_type": "code",
   "execution_count": 5,
   "metadata": {},
   "outputs": [],
   "source": [
    "# this template is same for every stage like data_ingestion, data_validation,data_transformation,model_trainer,model_evaluation\n",
    "\n",
    "class ConfigurationManager:\n",
    "    def __init__(\n",
    "        self,\n",
    "        config_filepath = CONFIG_FILE_PATH,\n",
    "        params_filepath = PARAMS_FILE_PATH,\n",
    "        schema_filepath = SCHEMA_FILE_PATH):\n",
    "\n",
    "        self.config = read_yaml(config_filepath)\n",
    "        self.params = read_yaml(params_filepath)\n",
    "        self.schema = read_yaml(schema_filepath)\n",
    "\n",
    "        create_directories([self.config.artifacts_root])\n",
    "\n",
    "    # only this part of code get changes her actually iam defining a get_model_evaluation_config\n",
    "    def get_model_evaluation_config(self) -> ModelEvaluationConfig:\n",
    "        config = self.config.model_evaluation# here our model ElasticNet reading all params , Target_column of schema \n",
    "        #params = self.params.ElasticNet\n",
    "        schema =  self.schema.TARGET_COLUMN\n",
    "\n",
    "        create_directories([config.root_dir])\n",
    "\n",
    "        model_evaluation_config = ModelEvaluationConfig(\n",
    "            root_dir=config.root_dir,\n",
    "            test_data_path=config.test_data_path,\n",
    "            model_path = config.model_path,\n",
    "            # all_params=params, # here iam saving all the parameters which i do experment while getting to know at which parameters our trained model which is ElastcNet is doing well\n",
    "            metric_file_name = config.metric_file_name,\n",
    "            target_column = schema.name,\n",
    "            # mlflow_uri=\"https://dagshub.com/mahendra867/ProjectML_with_MLFlow.mlflow\", # here i have setted the mlflow URI\n",
    "           \n",
    "        )\n",
    "\n",
    "        return model_evaluation_config # so which ever the varaibles we initilized inside the entity those are all getting returned"
   ]
  },
  {
   "cell_type": "code",
   "execution_count": 10,
   "metadata": {},
   "outputs": [],
   "source": [
    "import os\n",
    "import pandas as pd\n",
    "from sklearn.metrics import mean_squared_error, mean_absolute_error, r2_score # here i have imported all the evaluation meterics for evaluating our model peformance\n",
    "from urllib.parse import urlparse\n",
    "# import mlflow\n",
    "# import mlflow.sklearn\n",
    "from sklearn.metrics import confusion_matrix\n",
    "from sklearn.metrics import classification_report\n",
    "from sklearn.metrics import precision_recall_curve\n",
    "import seaborn as sns\n",
    "import pickle\n",
    "from src.PROJECTML.utils.common import load_object1"
   ]
  },
  {
   "cell_type": "code",
   "execution_count": 17,
   "metadata": {},
   "outputs": [
    {
     "data": {
      "text/plain": [
       "' # here i have defiend the eval_metrics which it evaluates our model performance by calculating the rmse,mae,r2\\n    def eval_metrics(self,actual, pred):\\n        rmse = np.sqrt(mean_squared_error(actual, pred))\\n        mae = mean_absolute_error(actual, pred)\\n        r2 = r2_score(actual, pred)\\n        return rmse, mae, r2\\n    \\n\\n# here i have defined one fucntion called log_into_mlflow which it will mlflow \\n    def log_into_mlflow(self):\\n\\n        test_data = pd.read_csv(self.config.test_data_path) # here iam loading the test dataset\\n        model = joblib.load(self.config.model_path) # here iam loading my trained model \\n\\n        test_x = test_data.drop([self.config.target_column], axis=1) # here iam dropping my targetcolumn in test_x\\n        test_y = test_data[[self.config.target_column]] # here iam keeping my target column\\n\\n\\n        mlflow.set_registry_uri(self.config.mlflow_uri) # here iam setting my tracking URI it is getting from configuration manager src because i want to everything inside a remote server \\n        tracking_url_type_store = urlparse(mlflow.get_tracking_uri()).scheme\\n\\n\\n        with mlflow.start_run():\\n\\n            predicted_qualities = model.predict(test_x) # here iam predicting my testing data\\n\\n            (rmse, mae, r2) = self.eval_metrics(test_y, predicted_qualities) # here it is calculating my metrics of the predicted model\\n            \\n            # Saving metrics as local\\n            scores = {\"rmse\": rmse, \"mae\": mae, \"r2\": r2} # these scores are saving inside my artifacts of model_evaluation as a jason file\\n            save_json(path=Path(self.config.metric_file_name), data=scores)\\n\\n            mlflow.log_params(self.config.all_params) # here iam logging with mlflow as log params,different log_mertics , and here iam giving all the parameters together which it will save inside ml flow\\n\\n            mlflow.log_metric(\"rmse\", rmse)\\n            mlflow.log_metric(\"r2\", r2)\\n            mlflow.log_metric(\"mae\", mae)\\n\\n# here it will check whether we are doing inside the URI or in local directory , i already set the URL so it will save inside the URI \\n            # Model registry does not work with file store\\n            if tracking_url_type_store != \"file\":\\n\\n                # Register the model\\n                # There are other ways to use the Model Registry, which depends on the use case,\\n                # please refer to the doc for more information:\\n                # https://mlflow.org/docs/latest/model-registry.html#api-workflow\\n                mlflow.sklearn.log_model(model, \"model\", registered_model_name=\"ElasticnetModel\") # here iam giving model ElasticnetModel\\n            else:\\n                mlflow.sklearn.log_model(model, \"model\") '"
      ]
     },
     "execution_count": 17,
     "metadata": {},
     "output_type": "execute_result"
    }
   ],
   "source": [
    "\n",
    "\n",
    "# here i have defined one ModelEvaluation class in which i have defined the ModelEvaluationConfig\n",
    "class ModelEvaluation:\n",
    "    def __init__(self, config: ModelEvaluationConfig):\n",
    "        self.config = config\n",
    "\n",
    "\n",
    "    def model_evaluation(self):\n",
    "        test_data=pd.read_csv(self.config.test_data_path)\n",
    "        model=load_object1(self.config.model_path)\n",
    "        test_x = test_data.drop([self.config.target_column], axis=1) # here iam dropping my targetcolumn in test_x\n",
    "        test_y = test_data[[self.config.target_column]] # here iam keeping my target column\n",
    "        # Confusion Matrix\n",
    "        cm = confusion_matrix(test_y,model.predict(test_x))\n",
    "        names = ['True Neg','False Pos','False Neg','True Pos']\n",
    "        counts = [value for value in cm.flatten()]\n",
    "        percentages = ['{0:.2%}'.format(value) for value in cm.flatten()/np.sum(cm)]\n",
    "        labels = [f'{v1}\\n{v2}\\n{v3}' for v1, v2, v3 in zip(names,counts,percentages)]\n",
    "        labels = np.asarray(labels).reshape(2,2)\n",
    "        sns.heatmap(cm,annot = labels,cmap = 'viridis',fmt ='')\n",
    "    \n",
    "    # Classification Report\n",
    "        print(f\"The classification report is :{classification_report(test_y,model.predict(test_x))}\")\n",
    "\n",
    "\n",
    "\n",
    "\"\"\" # here i have defiend the eval_metrics which it evaluates our model performance by calculating the rmse,mae,r2\n",
    "    def eval_metrics(self,actual, pred):\n",
    "        rmse = np.sqrt(mean_squared_error(actual, pred))\n",
    "        mae = mean_absolute_error(actual, pred)\n",
    "        r2 = r2_score(actual, pred)\n",
    "        return rmse, mae, r2\n",
    "    \n",
    "\n",
    "# here i have defined one fucntion called log_into_mlflow which it will mlflow \n",
    "    def log_into_mlflow(self):\n",
    "\n",
    "        test_data = pd.read_csv(self.config.test_data_path) # here iam loading the test dataset\n",
    "        model = joblib.load(self.config.model_path) # here iam loading my trained model \n",
    "\n",
    "        test_x = test_data.drop([self.config.target_column], axis=1) # here iam dropping my targetcolumn in test_x\n",
    "        test_y = test_data[[self.config.target_column]] # here iam keeping my target column\n",
    "\n",
    "\n",
    "        mlflow.set_registry_uri(self.config.mlflow_uri) # here iam setting my tracking URI it is getting from configuration manager src because i want to everything inside a remote server \n",
    "        tracking_url_type_store = urlparse(mlflow.get_tracking_uri()).scheme\n",
    "\n",
    "\n",
    "        with mlflow.start_run():\n",
    "\n",
    "            predicted_qualities = model.predict(test_x) # here iam predicting my testing data\n",
    "\n",
    "            (rmse, mae, r2) = self.eval_metrics(test_y, predicted_qualities) # here it is calculating my metrics of the predicted model\n",
    "            \n",
    "            # Saving metrics as local\n",
    "            scores = {\"rmse\": rmse, \"mae\": mae, \"r2\": r2} # these scores are saving inside my artifacts of model_evaluation as a jason file\n",
    "            save_json(path=Path(self.config.metric_file_name), data=scores)\n",
    "\n",
    "            mlflow.log_params(self.config.all_params) # here iam logging with mlflow as log params,different log_mertics , and here iam giving all the parameters together which it will save inside ml flow\n",
    "\n",
    "            mlflow.log_metric(\"rmse\", rmse)\n",
    "            mlflow.log_metric(\"r2\", r2)\n",
    "            mlflow.log_metric(\"mae\", mae)\n",
    "\n",
    "# here it will check whether we are doing inside the URI or in local directory , i already set the URL so it will save inside the URI \n",
    "            # Model registry does not work with file store\n",
    "            if tracking_url_type_store != \"file\":\n",
    "\n",
    "                # Register the model\n",
    "                # There are other ways to use the Model Registry, which depends on the use case,\n",
    "                # please refer to the doc for more information:\n",
    "                # https://mlflow.org/docs/latest/model-registry.html#api-workflow\n",
    "                mlflow.sklearn.log_model(model, \"model\", registered_model_name=\"ElasticnetModel\") # here iam giving model ElasticnetModel\n",
    "            else:\n",
    "                mlflow.sklearn.log_model(model, \"model\") \"\"\""
   ]
  },
  {
   "cell_type": "code",
   "execution_count": 18,
   "metadata": {},
   "outputs": [
    {
     "name": "stdout",
     "output_type": "stream",
     "text": [
      "[2024-02-27 20:37:03,207: INFO: common: yaml file: config\\config.yaml loaded successfully]\n",
      "[2024-02-27 20:37:03,210: INFO: common: yaml file: params.yaml loaded successfully]\n",
      "[2024-02-27 20:37:03,216: INFO: common: yaml file: schema.yaml loaded successfully]\n",
      "[2024-02-27 20:37:03,219: INFO: common: created directory at: artifacts]\n",
      "[2024-02-27 20:37:03,225: INFO: common: created directory at: artifacts/model_evaluation]\n"
     ]
    },
    {
     "name": "stdout",
     "output_type": "stream",
     "text": [
      "   Age Sex ChestPainType  Cholesterol  FastingBS  MaxHR ExerciseAngina  \\\n",
      "0   52   M           NAP            0          0    180              N   \n",
      "1   43   M           ASY            0          0    145              Y   \n",
      "2   71   M           ASY          221          0    115              Y   \n",
      "3   37   M           ASY          315          0    158              N   \n",
      "4   53   M           ASY            0          0    106              N   \n",
      "\n",
      "   Oldpeak ST_Slope  HeartDisease  \n",
      "0      3.0       Up             1  \n",
      "1      2.0     Flat             1  \n",
      "2      0.0     Flat             1  \n",
      "3      0.0       Up             0  \n",
      "4      0.0     Flat             1  \n",
      "The classification report is :              precision    recall  f1-score   support\n",
      "\n",
      "           0       0.88      0.84      0.86        89\n",
      "           1       0.86      0.89      0.88        95\n",
      "\n",
      "    accuracy                           0.87       184\n",
      "   macro avg       0.87      0.87      0.87       184\n",
      "weighted avg       0.87      0.87      0.87       184\n",
      "\n"
     ]
    },
    {
     "data": {
      "image/png": "[encoded data removed]",
      "text/plain": [
       "<Figure size 640x480 with 2 Axes>"
      ]
     },
     "metadata": {},
     "output_type": "display_data"
    }
   ],
   "source": [
    "try:\n",
    "    config = ConfigurationManager() # here i have initlized my ConfigurationManager()\n",
    "    model_evaluation_config = config.get_model_evaluation_config() # her eiam getiing my get_model_evaluation_config()\n",
    "    model_evaluation_config = ModelEvaluation(config=model_evaluation_config) # here iam passing this  model_evaluation_config to my ModelEvalaution\n",
    "    model_evaluation_config.model_evaluation()\n",
    "    # model_evaluation_config.log_into_mlflow() # here iam starting this log_into_mlflow()\n",
    "except Exception as e: # if anything goes wrong it throws the exception\n",
    "    raise e"
   ]
  },
  {
   "cell_type": "code",
   "execution_count": null,
   "metadata": {},
   "outputs": [],
   "source": []
  },
  {
   "cell_type": "code",
   "execution_count": null,
   "metadata": {},
   "outputs": [],
   "source": []
  },
  {
   "cell_type": "code",
   "execution_count": null,
   "metadata": {},
   "outputs": [],
   "source": []
  },
  {
   "cell_type": "code",
   "execution_count": null,
   "metadata": {},
   "outputs": [],
   "source": []
  },
  {
   "cell_type": "code",
   "execution_count": null,
   "metadata": {},
   "outputs": [],
   "source": []
  },
  {
   "cell_type": "code",
   "execution_count": null,
   "metadata": {},
   "outputs": [],
   "source": []
  },
  {
   "cell_type": "code",
   "execution_count": null,
   "metadata": {},
   "outputs": [],
   "source": []
  },
  {
   "cell_type": "code",
   "execution_count": null,
   "metadata": {},
   "outputs": [],
   "source": []
  },
  {
   "cell_type": "code",
   "execution_count": null,
   "metadata": {},
   "outputs": [],
   "source": []
  },
  {
   "cell_type": "code",
   "execution_count": null,
   "metadata": {},
   "outputs": [],
   "source": []
  },
  {
   "cell_type": "code",
   "execution_count": null,
   "metadata": {},
   "outputs": [],
   "source": []
  }
 ],
 "metadata": {
  "kernelspec": {
   "display_name": "Python 3",
   "language": "python",
   "name": "python3"
  },
  "language_info": {
   "codemirror_mode": {
    "name": "ipython",
    "version": 3
   },
   "file_extension": ".py",
   "mimetype": "text/x-python",
   "name": "python",
   "nbconvert_exporter": "python",
   "pygments_lexer": "ipython3",
   "version": "3.8.0"
  }
 },
 "nbformat": 4,
 "nbformat_minor": 2
}
